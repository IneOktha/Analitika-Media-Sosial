{
 "cells": [
  {
   "cell_type": "code",
   "execution_count": 2,
   "id": "5543f2dd",
   "metadata": {},
   "outputs": [],
   "source": [
    "import selenium\n",
    "from selenium import webdriver\n",
    "from selenium.webdriver.common.by import By\n",
    "from selenium.webdriver.common.keys import Keys\n",
    "from time import sleep\n",
    "from textblob import TextBlob\n",
    "import re\n",
    "\n",
    "driver = webdriver.Firefox()\n",
    "driver.get('https://twitter.com/login')\n",
    "\n",
    "# from vaderSentiment.vaderSentiment import SentimentIntensityAnalyzer\n"
   ]
  },
  {
   "cell_type": "code",
   "execution_count": null,
   "id": "12c4713a",
   "metadata": {
    "scrolled": true
   },
   "outputs": [],
   "source": [
    "pip install vaderSentiment"
   ]
  },
  {
   "cell_type": "code",
   "execution_count": 3,
   "id": "07e1ec6c",
   "metadata": {},
   "outputs": [],
   "source": [
    "username = driver.find_element(By.XPATH,\"//input[@name='text']\")\n",
    "username.send_keys(\"@ionichanzzzzz\")\n",
    "next_button = driver.find_element(By.XPATH,\"//span[contains(text(),'Next')]\")\n",
    "next_button.click()\n",
    "\n"
   ]
  },
  {
   "cell_type": "code",
   "execution_count": 4,
   "id": "a694c18a",
   "metadata": {},
   "outputs": [],
   "source": [
    "password = driver.find_element(By.XPATH,\"//input[@name='password']\")\n",
    "password.send_keys('pinayungan')\n",
    "log_in = driver.find_element(By.XPATH,\"//span[contains(text(),'Log in')]\")\n",
    "log_in.click()"
   ]
  },
  {
   "cell_type": "code",
   "execution_count": 11,
   "id": "6ad5deed",
   "metadata": {},
   "outputs": [],
   "source": [
    "search_box = driver.find_element(By.XPATH, \"//input[@data-testid='SearchBox_Search_Input']\")\n",
    "search_box.send_keys(\"Palestine\")\n",
    "search_box.send_keys(Keys.ENTER)\n",
    "\n",
    "# sleep(3)\n",
    "# people = drive.find_element(By.XPATH,\"//span[contains(text(),'orang')]\")\n",
    "# people.click()"
   ]
  },
  {
   "cell_type": "code",
   "execution_count": 12,
   "id": "9ca5404f",
   "metadata": {},
   "outputs": [],
   "source": [
    "UserTags=[]\n",
    "TimeStamps=[]\n",
    "Tweets=[]\n",
    "Replys=[]\n",
    "reTweets=[]\n",
    "Likes=[]\n",
    "Views=[]\n",
    "sentiment=[]\n",
    "\n",
    "\n",
    "articles = driver.find_elements(By.XPATH,\"//article[@data-testid='tweet']\")\n",
    "\n",
    "while True:\n",
    "    for article in articles:\n",
    "        UserTag = article.find_element(By.XPATH,\".//div[@data-testid='cellInnerDiv']\"and\".//div[@data-testid='User-Name']\" and \".//span[contains(text(),'@')]\").text\n",
    "        UserTags.append(UserTag)\n",
    "        \n",
    "        TimeStamp = article.find_element(By.XPATH,\".//time\").get_attribute('datetime')\n",
    "        TimeStamps.append(TimeStamp)\n",
    "        \n",
    "        Tweet = article.find_element(By.XPATH,\".//div[@data-testid='tweetText']\").text\n",
    "        Tweets.append(Tweet)\n",
    "        \n",
    "        Reply = article.find_element(By.XPATH,\".//div[@data-testid='reply']\").text\n",
    "        Replys.append(Reply)\n",
    "        \n",
    "        reTweet = article.find_element(By.XPATH,\".//div[@data-testid='retweet']\").text\n",
    "        reTweets.append(reTweet)\n",
    "        \n",
    "        Like = article.find_element(By.XPATH,\".//div[@data-testid='like']\").text\n",
    "        Likes.append(Like)\n",
    "        \n",
    "        try:\n",
    "             View = article.find_element(By.XPATH,\".//div[@data-testid='cellInnerDiv']\"and\".//div[@role='group']\"and\".//a[contains(@aria-label, '\"+\"views\"+\"')]\").text\n",
    "        except selenium.common.exceptions.NoSuchElementException:\n",
    "            View = \"\"\n",
    "        Views.append(View)\n",
    "        \n",
    "        clean_tweet = ' '.join(re.sub(r\"(@[A-Za-z0-9]+)|([^0-9A-Za-z \\t])|(\\w+:\\/\\/\\S+)\",\" \",Tweet).split())\n",
    "        analysis = TextBlob(clean_tweet)\n",
    "        if analysis.sentiment.polarity > 0.0:\n",
    "            sentimen = '1.0'\n",
    "        elif analysis.sentiment.polarity == 0.0:\n",
    "            sentimen = '0.0'\n",
    "        else:\n",
    "            sentimen = '-1.0'\n",
    "        sentiment.append(sentimen)\n",
    "        \n",
    "    driver.execute_script('window.scrollTo(0,document.body.scrollHeight);')\n",
    "    sleep(9)\n",
    "    articles = driver.find_elements(By.XPATH,\"//article[@data-testid='tweet']\")\n",
    "    Tweets2 = list(set(Tweets))\n",
    "    if len(Tweets2) > 50:\n",
    "        break\n",
    "        \n",
    "\n",
    "        \n"
   ]
  },
  {
   "cell_type": "code",
   "execution_count": 13,
   "id": "41b19f3a",
   "metadata": {
    "scrolled": true
   },
   "outputs": [
    {
     "data": {
      "text/plain": [
       "0"
      ]
     },
     "execution_count": 13,
     "metadata": {},
     "output_type": "execute_result"
    }
   ],
   "source": [
    "import pandas as pd\n",
    "\n",
    "df = pd.DataFrame(zip(UserTags,TimeStamps,Tweets,Replys,reTweets,Likes,Views,sentiment)\n",
    "                 ,columns=['UserTags','TimeStamps','Tweets','Replys','reTweets','Likes','Views','sentiment'])\n",
    "\n",
    "df.to_excel(\"D:\\\\tweets_live.xlsx\",index=False)\n",
    "\n",
    "sleep(3)\n",
    "import os\n",
    "os.system('start \"excel\" \"D:\\\\tweets_live.xlsx\"')"
   ]
  },
  {
   "cell_type": "code",
   "execution_count": null,
   "id": "d929530b",
   "metadata": {},
   "outputs": [],
   "source": []
  },
  {
   "cell_type": "code",
   "execution_count": null,
   "id": "68719f85",
   "metadata": {},
   "outputs": [],
   "source": []
  }
 ],
 "metadata": {
  "kernelspec": {
   "display_name": "Python 3 (ipykernel)",
   "language": "python",
   "name": "python3"
  },
  "language_info": {
   "codemirror_mode": {
    "name": "ipython",
    "version": 3
   },
   "file_extension": ".py",
   "mimetype": "text/x-python",
   "name": "python",
   "nbconvert_exporter": "python",
   "pygments_lexer": "ipython3",
   "version": "3.10.4"
  }
 },
 "nbformat": 4,
 "nbformat_minor": 5
}
